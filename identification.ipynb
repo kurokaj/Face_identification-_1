{
 "cells": [
  {
   "cell_type": "markdown",
   "metadata": {},
   "source": [
    "## Imports"
   ]
  },
  {
   "cell_type": "code",
   "execution_count": 1,
   "metadata": {},
   "outputs": [],
   "source": [
    "import sys\n",
    "import numpy as np\n",
    "import pandas as pd \n",
    "import matplotlib.pyplot as plt\n",
    "import dlib\n",
    "from imutils import face_utils\n",
    "import os\n",
    "from tqdm import tqdm\n",
    "import pickle\n",
    "\n",
    "\n",
    "font = cv2.FONT_HERSHEY_SIMPLEX\n",
    "\n"
   ]
  },
  {
   "cell_type": "markdown",
   "metadata": {},
   "source": [
    "# # Pre-trained model"
   ]
  },
  {
   "cell_type": "code",
   "execution_count": 2,
   "metadata": {},
   "outputs": [],
   "source": [
    "# Pre-trained model for the facelocation from cv2 package \n",
    "# You could train the Haar Cascade Classifier by youself, needs annotated positive data\n",
    "\n",
    "# Check the path!!!\n",
    "cascPath = \"/home/jonne/anaconda3/envs/face_reg/lib/python3.7/site-packages/cv2/data/haarcascade_frontalface_default.xml\"\n",
    "\n",
    "faceC = cv2.CascadeClassifier(cascPath)\n"
   ]
  },
  {
   "cell_type": "markdown",
   "metadata": {},
   "source": [
    "# #Test real time face recognition"
   ]
  },
  {
   "cell_type": "code",
   "execution_count": null,
   "metadata": {
    "scrolled": true
   },
   "outputs": [],
   "source": [
    "# Video object to capture real time image data\n",
    "\n",
    "video_c = cv2.VideoCapture(0)\n",
    "\n",
    "while True:\n",
    "    # frame by frame \n",
    "    ret, frame = video_c.read()\n",
    "    # linear color transition to grey scale\n",
    "    im = cv2.cvtColor(frame, cv2.COLOR_BGR2GRAY)\n",
    "\n",
    "    # Create list of the faces recognized    \n",
    "    face_list = faceC.detectMultiScale(\n",
    "        im,\n",
    "        scaleFactor=1.2,\n",
    "        minNeighbors=10,\n",
    "        flags=cv2.CASCADE_SCALE_IMAGE\n",
    "    )\n",
    "\n",
    "    # Draw rectangles around the recognized faces\n",
    "    for (x,y,w,h) in face_list:\n",
    "        cv2.rectangle(frame, (x,y), (x+w,y+h), (0,0,255), 3)\n",
    "        roi_im = im[y:y+h, x:x+w]  # roi with gray color\n",
    "        roi_color = frame[y:y+h, x:x+w]  # roi with normal color\n",
    "\n",
    "\n",
    "    # Count the number of faces in picture and display it\n",
    "    cv2.putText(frame, 'Number of faces: ' + str(len(face_list)),(40,40),font,1,(255,0,0),2)\n",
    "\n",
    "    # Show the video frame\n",
    "    cv2.imshow('Live', frame)\n",
    "\n",
    "    # Stop the camera when pressing 'q'\n",
    "    if cv2.waitKey(1) & 0xFF == ord('q'):\n",
    "        break\n",
    "\n",
    "# Kill windows and release captured video\n",
    "video_c.release()\n",
    "cv2.destroyAllWindows()\n"
   ]
  },
  {
   "cell_type": "markdown",
   "metadata": {},
   "source": [
    "##  Crop own face from live feed "
   ]
  },
  {
   "cell_type": "code",
   "execution_count": null,
   "metadata": {
    "scrolled": true
   },
   "outputs": [],
   "source": [
    "video_c = cv2.VideoCapture(0)\n",
    "\n",
    "path = \"/home/jonne/back_up/PROJEKTIT/FACE_R/OWN_cropped/\"\n",
    "\n",
    "# Running number\n",
    "temp = 0\n",
    "\n",
    "# Run until 2000 instanses \n",
    "while temp<=2000:\n",
    "    # frame by frame \n",
    "    ret, frame = video_c.read()\n",
    "    # linear color transition to grey scale\n",
    "    im = cv2.cvtColor(frame, cv2.COLOR_BGR2GRAY)\n",
    "\n",
    "    # Create list of the faces recognized    \n",
    "    face_list = faceC.detectMultiScale(\n",
    "        im,\n",
    "        scaleFactor=1.2,\n",
    "        minNeighbors=10,\n",
    "        flags=cv2.CASCADE_SCALE_IMAGE\n",
    "    )\n",
    "\n",
    "    # Draw rectangles around the recognized faces and crop own face to a directory\n",
    "    for (x,y,w,h) in face_list:\n",
    "        cv2.rectangle(frame, (x-3,y-3), (x+w+3,y+h+3), (0,0,255), 3)\n",
    "        roi_color = frame[y:y+h, x:x+w]  # roi with normal color\n",
    "        resized = cv2.resize(roi_color, (250,250), interpolation = cv2.INTER_AREA)\n",
    "        text = \"own_face_\"+ str(temp) +\".jpg\" \n",
    "        cv2.imwrite(os.path.join(path, text), resized)\n",
    "        temp = temp + 1\n",
    "\n",
    "    # Count the number of faces in picture and display it\n",
    "    cv2.putText(frame, 'Number of faces: ' + str(len(face_list)),(40,40),font,1,(255,0,0),2)\n",
    "\n",
    "    # Show the video frame\n",
    "    cv2.imshow('Live', frame)\n",
    "\n",
    "    # Stop the camera when pressing 'q'\n",
    "    if cv2.waitKey(1) & 0xFF == ord('q'):\n",
    "        break\n",
    "\n",
    "# Kill windows and release captured video\n",
    "video_c.release()\n",
    "cv2.destroyAllWindows()\n",
    "\n",
    "\n",
    "\n"
   ]
  },
  {
   "cell_type": "markdown",
   "metadata": {},
   "source": [
    "## Crop face out of given videos "
   ]
  },
  {
   "cell_type": "code",
   "execution_count": null,
   "metadata": {},
   "outputs": [],
   "source": [
    "video_path = \"/home/jonne/back_up/PROJEKTIT/FACE_R/VIDEOS/JANNE/\"\n",
    "image_path = \"/home/jonne/back_up/PROJEKTIT/FACE_R/VIDEOS/JANNE_cropped/\"\n",
    "name = \"janne\"\n",
    "mp4 = name + \".mp4\"\n",
    "\n",
    "cap = cv2.VideoCapture(os.path.join(video_path, mp4))\n",
    "print(os.path.join(video_path, mp4))\n",
    "\n",
    "# Running number\n",
    "temp = 0\n",
    "\n",
    "while cap.isOpened():\n",
    "    # frame by frame \n",
    "    ret, frame = cap.read()\n",
    "    \n",
    "    frame = cv2.rotate(frame, cv2.ROTATE_90_COUNTERCLOCKWISE)\n",
    "\n",
    "    # Create list of the faces recognized    \n",
    "    face_list = faceC.detectMultiScale(\n",
    "        frame,\n",
    "        scaleFactor=1.2,\n",
    "        minNeighbors=10,\n",
    "        flags=cv2.CASCADE_SCALE_IMAGE\n",
    "    )\n",
    "\n",
    "    # Draw rectangles around the recognized faces and crop own face to a directory\n",
    "    for (x,y,w,h) in face_list:\n",
    "        cv2.rectangle(frame, (x-3,y-3), (x+w+3,y+h+3), (0,0,255), 3)\n",
    "        roi_color = frame[y:y+h, x:x+w]  # roi with normal color\n",
    "        resized = cv2.resize(roi_color, (160,160), interpolation = cv2.INTER_AREA)\n",
    "        text = name + str(temp) +\".jpg\" \n",
    "        cv2.imwrite(os.path.join(image_path, text), resized)\n",
    "        temp = temp + 1\n",
    "\n",
    "    if cv2.waitKey(1) & 0xFF == ord('q'):\n",
    "        break    \n",
    "    \n",
    "    # Show the video frame\n",
    "    cv2.imshow('Video feed', frame)\n",
    "        \n",
    "        \n",
    "\n",
    "\n",
    "# Kill windows and release captured video\n",
    "cap.release()\n",
    "#cv2.destroyAllWindows()\n"
   ]
  }
 ],
 "metadata": {
  "kernelspec": {
   "display_name": "Python 3",
   "language": "python",
   "name": "python3"
  },
  "language_info": {
   "codemirror_mode": {
    "name": "ipython",
    "version": 3
   },
   "file_extension": ".py",
   "mimetype": "text/x-python",
   "name": "python",
   "nbconvert_exporter": "python",
   "pygments_lexer": "ipython3",
   "version": "3.7.4"
  }
 },
 "nbformat": 4,
 "nbformat_minor": 2
}
